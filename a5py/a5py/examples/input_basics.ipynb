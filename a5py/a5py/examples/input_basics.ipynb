{
 "cells": [
  {
   "cell_type": "markdown",
   "metadata": {},
   "source": [
    "**version 5.3**\n",
    "\n",
    "# Input basics\n",
    "\n",
    "This example shows the basics of input generation using the low level IO package `ascot5io`.\n",
    "\n",
    "1. <a href='#bfield'>Magnetic and electric field</a>\n",
    "2. <a href='#markers'>Markers</a>\n",
    "3. <a href='#options'>Options</a>\n",
    "4. <a href='#wall'>Wall</a>\n",
    "5. <a href='#other'>Other inputs</a>\n",
    "\n",
    "### Necessary imports"
   ]
  },
  {
   "cell_type": "code",
   "execution_count": null,
   "metadata": {},
   "outputs": [],
   "source": [
    "import numpy as np\n",
    "from a5py.ascot5io.ascot5 import Ascot"
   ]
  },
  {
   "cell_type": "markdown",
   "metadata": {},
   "source": [
    "<a id='bfield'></a>"
   ]
  },
  {
   "cell_type": "markdown",
   "metadata": {},
   "source": [
    "## Magnetic and electric field\n",
    "\n",
    "Having valid magnetic and electric field inputs is necessary for all ASCOT5 simulations. There are several different magnetic field input types to choose from, but the one most commonly used is `B_2DS` which represents axisymmetric tokamak field interpolated using bicubic splines.\n",
    "\n",
    "In `B_2DS` module, the magnetic field poloidal component is evaluated from the poloidal flux as"
   ]
  },
  {
   "cell_type": "markdown",
   "metadata": {},
   "source": [
    "<a href=\"https://www.codecogs.com/eqnedit.php?latex=B_R&space;=&space;-\\frac{1}{R}\\frac{\\partial\\psi}{\\partial&space;z}&space;\\qquad&space;B_z&space;=&space;\\frac{1}{R}\\frac{\\partial\\psi}{\\partial&space;R}\" target=\"_blank\"><img src=\"https://latex.codecogs.com/gif.latex?B_R&space;=&space;-\\frac{1}{R}\\frac{\\partial\\psi}{\\partial&space;z}&space;\\qquad&space;B_z&space;=&space;\\frac{1}{R}\\frac{\\partial\\psi}{\\partial&space;R}\" title=\"B_R = -\\frac{1}{R}\\frac{\\partial\\psi}{\\partial z} \\qquad B_z = \\frac{1}{R}\\frac{\\partial\\psi}{\\partial R}\" /></a>"
   ]
  },
  {
   "cell_type": "markdown",
   "metadata": {},
   "source": [
    "and the toroidal component is given as an input. The poloidal flux is in addition used to evaluate the normalized poloidal flux which is used as a flux coordinate. \n",
    "\n",
    "**Note**\n",
    "It is possible to give also the poloidal component separately, but in this case it is summed to the components calculated from the poloidal flux so this possibility is rarely used. If one insists on giving the poloidal components explicitly, one can avoid double counting by multiplying the poloidal flux with a small number but be cautious here as something might break.\n",
    "\n",
    "There are higher level tools that read EQDSK and write it as a `B_2DS` input (see `a5py/preprocessing/eqdsk2input.py`) but here the point is to demonstrate the lower level tools. Before demonstration, we need to create suitable data using the analytical model:\n",
    "$a=1$"
   ]
  },
  {
   "cell_type": "code",
   "execution_count": null,
   "metadata": {},
   "outputs": [],
   "source": []
  }
 ],
 "metadata": {
  "kernelspec": {
   "display_name": "Python 3",
   "language": "python",
   "name": "python3"
  },
  "language_info": {
   "codemirror_mode": {
    "name": "ipython",
    "version": 3
   },
   "file_extension": ".py",
   "mimetype": "text/x-python",
   "name": "python",
   "nbconvert_exporter": "python",
   "pygments_lexer": "ipython3",
   "version": "3.6.9"
  }
 },
 "nbformat": 4,
 "nbformat_minor": 4
}
