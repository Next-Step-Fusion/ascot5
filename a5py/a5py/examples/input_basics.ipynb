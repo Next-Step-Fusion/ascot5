{
 "cells": [
  {
   "cell_type": "markdown",
   "metadata": {},
   "source": [
    "**version 5.3**\n",
    "\n",
    "# Input basics\n",
    "\n",
    "This example shows the basics of input generation using the low level IO package `ascot5io`.\n",
    "\n",
    "1. <a href='#bfield'>Magnetic and electric field</a>\n",
    "2. <a href='#markers'>Markers</a>\n",
    "3. <a href='#options'>Options</a>\n",
    "4. <a href='#wall'>Wall</a>\n",
    "5. <a href='#other'>Other inputs</a>\n",
    "\n",
    "### Necessary imports"
   ]
  },
  {
   "cell_type": "code",
   "execution_count": null,
   "metadata": {},
   "outputs": [],
   "source": [
    "import numpy as np\n",
    "from a5py.ascot5io.ascot5 import Ascot"
   ]
  },
  {
   "cell_type": "markdown",
   "metadata": {},
   "source": [
    "<a id='bfield'></a>"
   ]
  },
  {
   "cell_type": "markdown",
   "metadata": {},
   "source": [
    "## Magnetic and electric field\n",
    "\n",
    "Having valid magnetic and electric field inputs is necessary for all ASCOT5 simulations. There are several different magnetic field input types to choose from, but the one most commonly used is `B_2DS` which represents axisymmetric tokamak field interpolated using bicubic splines."
   ]
  },
  {
   "cell_type": "markdown",
   "metadata": {},
   "source": [
    "<a href=\"https://www.codecogs.com/eqnedit.php?latex=a&plus;5=2\" target=\"_blank\"><img src=\"https://latex.codecogs.com/gif.latex?a&plus;5=2\" title=\"a+5=2\" /></a>"
   ]
  },
  {
   "cell_type": "code",
   "execution_count": null,
   "metadata": {},
   "outputs": [],
   "source": []
  }
 ],
 "metadata": {
  "kernelspec": {
   "display_name": "Python 3",
   "language": "python",
   "name": "python3"
  },
  "language_info": {
   "codemirror_mode": {
    "name": "ipython",
    "version": 3
   },
   "file_extension": ".py",
   "mimetype": "text/x-python",
   "name": "python",
   "nbconvert_exporter": "python",
   "pygments_lexer": "ipython3",
   "version": "3.6.9"
  }
 },
 "nbformat": 4,
 "nbformat_minor": 4
}
